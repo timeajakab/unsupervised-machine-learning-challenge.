{
 "cells": [
  {
   "cell_type": "code",
   "execution_count": null,
   "id": "0f0a25d9",
   "metadata": {},
   "outputs": [],
   "source": [
    "# Dependencies\n",
    "import pandas as pd\n",
    "import numpy as np\n",
    "\n",
    "from sklearn.preprocessing import StandardScaler\n",
    "from sklearn.manifold import TSNE\n",
    "from sklearn.decomposition import PCA\n",
    "import matplotlib.pyplot as plt\n",
    "from sklearn.cluster import KMeans"
   ]
  },
  {
   "cell_type": "code",
   "execution_count": null,
   "id": "6fd7e34f",
   "metadata": {},
   "outputs": [],
   "source": [
    "# Read in crypto data csv into df\n",
    "crypto_data_filepath = \"crypto_data.csv\"\n",
    "crypto_data_df = pd.read_csv(crypto_data_filepath)\n",
    "crypto_data_df"
   ]
  },
  {
   "cell_type": "code",
   "execution_count": null,
   "id": "d7a99419",
   "metadata": {},
   "outputs": [],
   "source": [
    "# Taking a look at the datatypes for each columns\n",
    "crypto_data_df.dtypes"
   ]
  },
  {
   "cell_type": "code",
   "execution_count": null,
   "id": "a63abdc3",
   "metadata": {},
   "outputs": [],
   "source": [
    "# Created copy \n",
    "crypto_df_copy = crypto_data_df.copy()"
   ]
  },
  {
   "cell_type": "code",
   "execution_count": null,
   "id": "5d43190c",
   "metadata": {},
   "outputs": [],
   "source": [
    "# Filter out the cryptocurrency that are not being traded \n",
    "\n",
    "crypto_df_copy = crypto_df_copy.loc[crypto_df_copy[\"IsTrading\"] == True, :]\n",
    "crypto_df_copy = crypto_df_copy.drop(columns = [\"IsTrading\"])\n",
    "crypto_df_copy"
   ]
  },
  {
   "cell_type": "code",
   "execution_count": null,
   "id": "e36d36ea",
   "metadata": {},
   "outputs": [],
   "source": [
    "crypto_df_copy.isna()\n",
    "crypto_df_copy.isnull()"
   ]
  },
  {
   "cell_type": "code",
   "execution_count": null,
   "id": "84fe10e2",
   "metadata": {},
   "outputs": [],
   "source": [
    "# Checking null\n",
    "crypto_df_copy[crypto_df_copy.isna().any(axis = 1)]\n",
    "crypto_df_copy[crypto_df_copy.isnull().any(axis = 1)]"
   ]
  },
  {
   "cell_type": "code",
   "execution_count": null,
   "id": "c2673dc9",
   "metadata": {},
   "outputs": [],
   "source": [
    "# Remove rows w values\n",
    "crypto_df_copy = crypto_df_copy.dropna(axis = 0, how = \"any\")\n",
    "crypto_df_copy"
   ]
  },
  {
   "cell_type": "code",
   "execution_count": null,
   "id": "27401c9a",
   "metadata": {},
   "outputs": [],
   "source": [
    "crypto_df_copy.info()"
   ]
  },
  {
   "cell_type": "code",
   "execution_count": null,
   "id": "1b2830a2",
   "metadata": {},
   "outputs": [],
   "source": [
    "# Check how many cryptocurrency greater than 0, equal to 0, or less than 0\n",
    "\n",
    "crypto_df_copy.loc[crypto_df_copy[\"TotalCoinsMined\"] > 0]\n",
    "crypto_df_copy.loc[crypto_df_copy[\"TotalCoinsMined\"] == 0]\n",
    "crypto_df_copy.loc[crypto_df_copy[\"TotalCoinsMined\"] < 0]"
   ]
  },
  {
   "cell_type": "code",
   "execution_count": null,
   "id": "5b8493ed",
   "metadata": {},
   "outputs": [],
   "source": [
    "# Removing cryptocurrency that have 0 or less coins mined\n",
    "crypto_df_copy = crypto_df_copy.loc[crypto_df_copy[\"TotalCoinsMined\"] > 0]\n",
    "crypto_df_copy"
   ]
  },
  {
   "cell_type": "code",
   "execution_count": null,
   "id": "0d62e88c",
   "metadata": {},
   "outputs": [],
   "source": [
    "# Find duplicate entries\n",
    "print(f\"Duplicate entries: {crypto_df_copy.duplicated().sum()}\")"
   ]
  },
  {
   "cell_type": "code",
   "execution_count": null,
   "id": "de2c784a",
   "metadata": {},
   "outputs": [],
   "source": [
    "# Drop CoinName column from df\n",
    "crypto_df_copy = crypto_df_copy.drop(columns = [\"CoinName\", \"Unnamed: 0\"])\n",
    "# crypto_df_copy = crypto_df_copy.rename(columns = {\"Unnamed: 0\": \"Name\"})\n",
    "crypto_df_copy"
   ]
  },
  {
   "cell_type": "code",
   "execution_count": null,
   "id": "4a0130f5",
   "metadata": {},
   "outputs": [],
   "source": [
    "# Changing the TotalCoinSupply column into an float\n",
    "crypto_df_copy[\"TotalCoinSupply\"] = pd.to_numeric(crypto_df_copy[\"TotalCoinSupply\"], errors = \"raise\")\n",
    "crypto_df_copy"
   ]
  },
  {
   "cell_type": "code",
   "execution_count": null,
   "id": "77cf12bb",
   "metadata": {},
   "outputs": [],
   "source": [
    "crypto_df_copy.info()"
   ]
  },
  {
   "cell_type": "code",
   "execution_count": null,
   "id": "868d54b9",
   "metadata": {},
   "outputs": [],
   "source": [
    "# Create numerical data of the category one-hot-encoded\n",
    "crypto_df_copy = pd.get_dummies(crypto_df_copy, columns = [\"Algorithm\", \"ProofType\"])\n",
    "crypto_df_copy"
   ]
  },
  {
   "cell_type": "code",
   "execution_count": null,
   "id": "4f5773eb",
   "metadata": {},
   "outputs": [],
   "source": [
    "crypto_df_copy_copy = crypto_df_copy.copy()\n",
    "crypto_df_copy_copy"
   ]
  },
  {
   "cell_type": "code",
   "execution_count": null,
   "id": "2b5ba1c7",
   "metadata": {},
   "outputs": [],
   "source": [
    "# Creating the standard scaler model\n",
    "scaler = StandardScaler()\n",
    "\n",
    "# Fit and transform the data\n",
    "X_scaled = scaler.fit_transform(crypto_df_copy_copy)\n",
    "X_scaled"
   ]
  },
  {
   "cell_type": "code",
   "execution_count": null,
   "id": "279cf2f7",
   "metadata": {},
   "outputs": [],
   "source": [
    "## Dimensionality Reduction"
   ]
  },
  {
   "cell_type": "code",
   "execution_count": null,
   "id": "bed965bc",
   "metadata": {},
   "outputs": [],
   "source": [
    "# Initialize the PCA model\n",
    "pca = PCA(n_components=0.9)\n",
    "\n",
    "# Fit and transform the data\n",
    "X_scaled_pca = pca.fit_transform(X_scaled)\n",
    "\n",
    "# Fetch the explained variance\n",
    "pca.explained_variance_ratio_"
   ]
  },
  {
   "cell_type": "code",
   "execution_count": null,
   "id": "217b41cb",
   "metadata": {},
   "outputs": [],
   "source": [
    "# Run tsne model\n",
    "tsne = TSNE()\n",
    "\n",
    "# Fit and transform data\n",
    "X_scaled_pca_tsne = tsne.fit_transform(X_scaled_pca)"
   ]
  },
  {
   "cell_type": "code",
   "execution_count": null,
   "id": "055e9ccb",
   "metadata": {},
   "outputs": [],
   "source": [
    "# Plot the results\n",
    "plt.scatter(X_scaled_pca_tsne[:,0], X_scaled_pca_tsne[:,1])\n",
    "plt.show()"
   ]
  },
  {
   "cell_type": "code",
   "execution_count": null,
   "id": "80df0f72",
   "metadata": {},
   "outputs": [],
   "source": []
  }
 ],
 "metadata": {
  "kernelspec": {
   "display_name": "PythonData",
   "language": "python",
   "name": "pythondata"
  },
  "language_info": {
   "codemirror_mode": {
    "name": "ipython",
    "version": 3
   },
   "file_extension": ".py",
   "mimetype": "text/x-python",
   "name": "python",
   "nbconvert_exporter": "python",
   "pygments_lexer": "ipython3",
   "version": "3.7.7"
  }
 },
 "nbformat": 4,
 "nbformat_minor": 5
}
